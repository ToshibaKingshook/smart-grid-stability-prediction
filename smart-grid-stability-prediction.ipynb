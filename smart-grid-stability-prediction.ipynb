{
 "cells": [
  {
   "cell_type": "markdown",
   "metadata": {
    "papermill": {
     "duration": 0.0158,
     "end_time": "2021-01-02T22:47:43.547576",
     "exception": false,
     "start_time": "2021-01-02T22:47:43.531776",
     "status": "completed"
    },
    "tags": []
   },
   "source": [
    "# Task for Today  \n",
    "\n",
    "***\n",
    "\n",
    "## Smart Grid Stability Prediction  \n",
    "\n",
    "Given *data about smart grids*, let's try to predict if a given grid is **stable** or not, and also predict a numerical estimate of its **stability**.  \n",
    "  \n",
    "We will use both classification and regression models from XGBoost to make our predictions."
   ]
  },
  {
   "cell_type": "markdown",
   "metadata": {
    "papermill": {
     "duration": 0.012489,
     "end_time": "2021-01-02T22:47:43.573096",
     "exception": false,
     "start_time": "2021-01-02T22:47:43.560607",
     "status": "completed"
    },
    "tags": []
   },
   "source": [
    "# Getting Started"
   ]
  },
  {
   "cell_type": "code",
   "execution_count": 1,
   "metadata": {
    "_cell_guid": "79c7e3d0-c299-4dcb-8224-4455121ee9b0",
    "_uuid": "d629ff2d2480ee46fbb7e2d37f6b5fab8052498a",
    "execution": {
     "iopub.execute_input": "2021-01-02T22:47:43.604254Z",
     "iopub.status.busy": "2021-01-02T22:47:43.603597Z",
     "iopub.status.idle": "2021-01-02T22:47:45.418338Z",
     "shell.execute_reply": "2021-01-02T22:47:45.417784Z"
    },
    "papermill": {
     "duration": 1.832659,
     "end_time": "2021-01-02T22:47:45.418478",
     "exception": false,
     "start_time": "2021-01-02T22:47:43.585819",
     "status": "completed"
    },
    "tags": []
   },
   "outputs": [],
   "source": [
    "import numpy as np\n",
    "import pandas as pd\n",
    "\n",
    "from sklearn.model_selection import train_test_split\n",
    "\n",
    "from xgboost import XGBClassifier, XGBRegressor"
   ]
  },
  {
   "cell_type": "code",
   "execution_count": 2,
   "metadata": {
    "execution": {
     "iopub.execute_input": "2021-01-02T22:47:45.456164Z",
     "iopub.status.busy": "2021-01-02T22:47:45.455508Z",
     "iopub.status.idle": "2021-01-02T22:47:45.826691Z",
     "shell.execute_reply": "2021-01-02T22:47:45.827179Z"
    },
    "papermill": {
     "duration": 0.39556,
     "end_time": "2021-01-02T22:47:45.827338",
     "exception": false,
     "start_time": "2021-01-02T22:47:45.431778",
     "status": "completed"
    },
    "tags": []
   },
   "outputs": [],
   "source": [
    "data = pd.read_csv('../input/smart-grid-stability/smart_grid_stability_augmented.csv')"
   ]
  },
  {
   "cell_type": "code",
   "execution_count": 3,
   "metadata": {
    "execution": {
     "iopub.execute_input": "2021-01-02T22:47:45.862924Z",
     "iopub.status.busy": "2021-01-02T22:47:45.862205Z",
     "iopub.status.idle": "2021-01-02T22:47:45.889758Z",
     "shell.execute_reply": "2021-01-02T22:47:45.890274Z"
    },
    "papermill": {
     "duration": 0.049717,
     "end_time": "2021-01-02T22:47:45.890429",
     "exception": false,
     "start_time": "2021-01-02T22:47:45.840712",
     "status": "completed"
    },
    "tags": []
   },
   "outputs": [
    {
     "data": {
      "text/html": [
       "<div>\n",
       "<style scoped>\n",
       "    .dataframe tbody tr th:only-of-type {\n",
       "        vertical-align: middle;\n",
       "    }\n",
       "\n",
       "    .dataframe tbody tr th {\n",
       "        vertical-align: top;\n",
       "    }\n",
       "\n",
       "    .dataframe thead th {\n",
       "        text-align: right;\n",
       "    }\n",
       "</style>\n",
       "<table border=\"1\" class=\"dataframe\">\n",
       "  <thead>\n",
       "    <tr style=\"text-align: right;\">\n",
       "      <th></th>\n",
       "      <th>tau1</th>\n",
       "      <th>tau2</th>\n",
       "      <th>tau3</th>\n",
       "      <th>tau4</th>\n",
       "      <th>p1</th>\n",
       "      <th>p2</th>\n",
       "      <th>p3</th>\n",
       "      <th>p4</th>\n",
       "      <th>g1</th>\n",
       "      <th>g2</th>\n",
       "      <th>g3</th>\n",
       "      <th>g4</th>\n",
       "      <th>stab</th>\n",
       "      <th>stabf</th>\n",
       "    </tr>\n",
       "  </thead>\n",
       "  <tbody>\n",
       "    <tr>\n",
       "      <th>0</th>\n",
       "      <td>2.959060</td>\n",
       "      <td>3.079885</td>\n",
       "      <td>8.381025</td>\n",
       "      <td>9.780754</td>\n",
       "      <td>3.763085</td>\n",
       "      <td>-0.782604</td>\n",
       "      <td>-1.257395</td>\n",
       "      <td>-1.723086</td>\n",
       "      <td>0.650456</td>\n",
       "      <td>0.859578</td>\n",
       "      <td>0.887445</td>\n",
       "      <td>0.958034</td>\n",
       "      <td>0.055347</td>\n",
       "      <td>unstable</td>\n",
       "    </tr>\n",
       "    <tr>\n",
       "      <th>1</th>\n",
       "      <td>9.304097</td>\n",
       "      <td>4.902524</td>\n",
       "      <td>3.047541</td>\n",
       "      <td>1.369357</td>\n",
       "      <td>5.067812</td>\n",
       "      <td>-1.940058</td>\n",
       "      <td>-1.872742</td>\n",
       "      <td>-1.255012</td>\n",
       "      <td>0.413441</td>\n",
       "      <td>0.862414</td>\n",
       "      <td>0.562139</td>\n",
       "      <td>0.781760</td>\n",
       "      <td>-0.005957</td>\n",
       "      <td>stable</td>\n",
       "    </tr>\n",
       "    <tr>\n",
       "      <th>2</th>\n",
       "      <td>8.971707</td>\n",
       "      <td>8.848428</td>\n",
       "      <td>3.046479</td>\n",
       "      <td>1.214518</td>\n",
       "      <td>3.405158</td>\n",
       "      <td>-1.207456</td>\n",
       "      <td>-1.277210</td>\n",
       "      <td>-0.920492</td>\n",
       "      <td>0.163041</td>\n",
       "      <td>0.766689</td>\n",
       "      <td>0.839444</td>\n",
       "      <td>0.109853</td>\n",
       "      <td>0.003471</td>\n",
       "      <td>unstable</td>\n",
       "    </tr>\n",
       "    <tr>\n",
       "      <th>3</th>\n",
       "      <td>0.716415</td>\n",
       "      <td>7.669600</td>\n",
       "      <td>4.486641</td>\n",
       "      <td>2.340563</td>\n",
       "      <td>3.963791</td>\n",
       "      <td>-1.027473</td>\n",
       "      <td>-1.938944</td>\n",
       "      <td>-0.997374</td>\n",
       "      <td>0.446209</td>\n",
       "      <td>0.976744</td>\n",
       "      <td>0.929381</td>\n",
       "      <td>0.362718</td>\n",
       "      <td>0.028871</td>\n",
       "      <td>unstable</td>\n",
       "    </tr>\n",
       "    <tr>\n",
       "      <th>4</th>\n",
       "      <td>3.134112</td>\n",
       "      <td>7.608772</td>\n",
       "      <td>4.943759</td>\n",
       "      <td>9.857573</td>\n",
       "      <td>3.525811</td>\n",
       "      <td>-1.125531</td>\n",
       "      <td>-1.845975</td>\n",
       "      <td>-0.554305</td>\n",
       "      <td>0.797110</td>\n",
       "      <td>0.455450</td>\n",
       "      <td>0.656947</td>\n",
       "      <td>0.820923</td>\n",
       "      <td>0.049860</td>\n",
       "      <td>unstable</td>\n",
       "    </tr>\n",
       "    <tr>\n",
       "      <th>...</th>\n",
       "      <td>...</td>\n",
       "      <td>...</td>\n",
       "      <td>...</td>\n",
       "      <td>...</td>\n",
       "      <td>...</td>\n",
       "      <td>...</td>\n",
       "      <td>...</td>\n",
       "      <td>...</td>\n",
       "      <td>...</td>\n",
       "      <td>...</td>\n",
       "      <td>...</td>\n",
       "      <td>...</td>\n",
       "      <td>...</td>\n",
       "      <td>...</td>\n",
       "    </tr>\n",
       "    <tr>\n",
       "      <th>59995</th>\n",
       "      <td>2.930406</td>\n",
       "      <td>2.376523</td>\n",
       "      <td>9.487627</td>\n",
       "      <td>6.187797</td>\n",
       "      <td>3.343416</td>\n",
       "      <td>-1.449106</td>\n",
       "      <td>-0.658054</td>\n",
       "      <td>-1.236256</td>\n",
       "      <td>0.601709</td>\n",
       "      <td>0.813512</td>\n",
       "      <td>0.779642</td>\n",
       "      <td>0.608385</td>\n",
       "      <td>0.023892</td>\n",
       "      <td>unstable</td>\n",
       "    </tr>\n",
       "    <tr>\n",
       "      <th>59996</th>\n",
       "      <td>3.392299</td>\n",
       "      <td>2.954947</td>\n",
       "      <td>1.274827</td>\n",
       "      <td>6.894759</td>\n",
       "      <td>4.349512</td>\n",
       "      <td>-0.952437</td>\n",
       "      <td>-1.663661</td>\n",
       "      <td>-1.733414</td>\n",
       "      <td>0.502079</td>\n",
       "      <td>0.285880</td>\n",
       "      <td>0.567242</td>\n",
       "      <td>0.366120</td>\n",
       "      <td>-0.025803</td>\n",
       "      <td>stable</td>\n",
       "    </tr>\n",
       "    <tr>\n",
       "      <th>59997</th>\n",
       "      <td>2.364034</td>\n",
       "      <td>8.776391</td>\n",
       "      <td>2.842030</td>\n",
       "      <td>1.008906</td>\n",
       "      <td>4.299976</td>\n",
       "      <td>-0.943884</td>\n",
       "      <td>-1.380719</td>\n",
       "      <td>-1.975373</td>\n",
       "      <td>0.487838</td>\n",
       "      <td>0.149286</td>\n",
       "      <td>0.986505</td>\n",
       "      <td>0.145984</td>\n",
       "      <td>-0.031810</td>\n",
       "      <td>stable</td>\n",
       "    </tr>\n",
       "    <tr>\n",
       "      <th>59998</th>\n",
       "      <td>9.631511</td>\n",
       "      <td>2.757071</td>\n",
       "      <td>3.994398</td>\n",
       "      <td>7.821347</td>\n",
       "      <td>2.514755</td>\n",
       "      <td>-0.649915</td>\n",
       "      <td>-0.966330</td>\n",
       "      <td>-0.898510</td>\n",
       "      <td>0.365246</td>\n",
       "      <td>0.889118</td>\n",
       "      <td>0.587558</td>\n",
       "      <td>0.818391</td>\n",
       "      <td>0.037789</td>\n",
       "      <td>unstable</td>\n",
       "    </tr>\n",
       "    <tr>\n",
       "      <th>59999</th>\n",
       "      <td>6.530527</td>\n",
       "      <td>4.349695</td>\n",
       "      <td>6.781790</td>\n",
       "      <td>8.673138</td>\n",
       "      <td>3.492807</td>\n",
       "      <td>-1.532193</td>\n",
       "      <td>-1.390285</td>\n",
       "      <td>-0.570329</td>\n",
       "      <td>0.073056</td>\n",
       "      <td>0.378761</td>\n",
       "      <td>0.505441</td>\n",
       "      <td>0.942631</td>\n",
       "      <td>0.045263</td>\n",
       "      <td>unstable</td>\n",
       "    </tr>\n",
       "  </tbody>\n",
       "</table>\n",
       "<p>60000 rows × 14 columns</p>\n",
       "</div>"
      ],
      "text/plain": [
       "           tau1      tau2      tau3      tau4        p1        p2        p3  \\\n",
       "0      2.959060  3.079885  8.381025  9.780754  3.763085 -0.782604 -1.257395   \n",
       "1      9.304097  4.902524  3.047541  1.369357  5.067812 -1.940058 -1.872742   \n",
       "2      8.971707  8.848428  3.046479  1.214518  3.405158 -1.207456 -1.277210   \n",
       "3      0.716415  7.669600  4.486641  2.340563  3.963791 -1.027473 -1.938944   \n",
       "4      3.134112  7.608772  4.943759  9.857573  3.525811 -1.125531 -1.845975   \n",
       "...         ...       ...       ...       ...       ...       ...       ...   \n",
       "59995  2.930406  2.376523  9.487627  6.187797  3.343416 -1.449106 -0.658054   \n",
       "59996  3.392299  2.954947  1.274827  6.894759  4.349512 -0.952437 -1.663661   \n",
       "59997  2.364034  8.776391  2.842030  1.008906  4.299976 -0.943884 -1.380719   \n",
       "59998  9.631511  2.757071  3.994398  7.821347  2.514755 -0.649915 -0.966330   \n",
       "59999  6.530527  4.349695  6.781790  8.673138  3.492807 -1.532193 -1.390285   \n",
       "\n",
       "             p4        g1        g2        g3        g4      stab     stabf  \n",
       "0     -1.723086  0.650456  0.859578  0.887445  0.958034  0.055347  unstable  \n",
       "1     -1.255012  0.413441  0.862414  0.562139  0.781760 -0.005957    stable  \n",
       "2     -0.920492  0.163041  0.766689  0.839444  0.109853  0.003471  unstable  \n",
       "3     -0.997374  0.446209  0.976744  0.929381  0.362718  0.028871  unstable  \n",
       "4     -0.554305  0.797110  0.455450  0.656947  0.820923  0.049860  unstable  \n",
       "...         ...       ...       ...       ...       ...       ...       ...  \n",
       "59995 -1.236256  0.601709  0.813512  0.779642  0.608385  0.023892  unstable  \n",
       "59996 -1.733414  0.502079  0.285880  0.567242  0.366120 -0.025803    stable  \n",
       "59997 -1.975373  0.487838  0.149286  0.986505  0.145984 -0.031810    stable  \n",
       "59998 -0.898510  0.365246  0.889118  0.587558  0.818391  0.037789  unstable  \n",
       "59999 -0.570329  0.073056  0.378761  0.505441  0.942631  0.045263  unstable  \n",
       "\n",
       "[60000 rows x 14 columns]"
      ]
     },
     "execution_count": 3,
     "metadata": {},
     "output_type": "execute_result"
    }
   ],
   "source": [
    "data"
   ]
  },
  {
   "cell_type": "code",
   "execution_count": 4,
   "metadata": {
    "execution": {
     "iopub.execute_input": "2021-01-02T22:47:45.921548Z",
     "iopub.status.busy": "2021-01-02T22:47:45.920907Z",
     "iopub.status.idle": "2021-01-02T22:47:45.942253Z",
     "shell.execute_reply": "2021-01-02T22:47:45.942782Z"
    },
    "papermill": {
     "duration": 0.038379,
     "end_time": "2021-01-02T22:47:45.942922",
     "exception": false,
     "start_time": "2021-01-02T22:47:45.904543",
     "status": "completed"
    },
    "tags": []
   },
   "outputs": [
    {
     "name": "stdout",
     "output_type": "stream",
     "text": [
      "<class 'pandas.core.frame.DataFrame'>\n",
      "RangeIndex: 60000 entries, 0 to 59999\n",
      "Data columns (total 14 columns):\n",
      " #   Column  Non-Null Count  Dtype  \n",
      "---  ------  --------------  -----  \n",
      " 0   tau1    60000 non-null  float64\n",
      " 1   tau2    60000 non-null  float64\n",
      " 2   tau3    60000 non-null  float64\n",
      " 3   tau4    60000 non-null  float64\n",
      " 4   p1      60000 non-null  float64\n",
      " 5   p2      60000 non-null  float64\n",
      " 6   p3      60000 non-null  float64\n",
      " 7   p4      60000 non-null  float64\n",
      " 8   g1      60000 non-null  float64\n",
      " 9   g2      60000 non-null  float64\n",
      " 10  g3      60000 non-null  float64\n",
      " 11  g4      60000 non-null  float64\n",
      " 12  stab    60000 non-null  float64\n",
      " 13  stabf   60000 non-null  object \n",
      "dtypes: float64(13), object(1)\n",
      "memory usage: 6.4+ MB\n"
     ]
    }
   ],
   "source": [
    "data.info()"
   ]
  },
  {
   "cell_type": "markdown",
   "metadata": {
    "papermill": {
     "duration": 0.014392,
     "end_time": "2021-01-02T22:47:45.971834",
     "exception": false,
     "start_time": "2021-01-02T22:47:45.957442",
     "status": "completed"
    },
    "tags": []
   },
   "source": [
    "# Preprocessing"
   ]
  },
  {
   "cell_type": "code",
   "execution_count": 5,
   "metadata": {
    "execution": {
     "iopub.execute_input": "2021-01-02T22:47:46.011256Z",
     "iopub.status.busy": "2021-01-02T22:47:46.010462Z",
     "iopub.status.idle": "2021-01-02T22:47:46.014530Z",
     "shell.execute_reply": "2021-01-02T22:47:46.013999Z"
    },
    "papermill": {
     "duration": 0.028053,
     "end_time": "2021-01-02T22:47:46.014645",
     "exception": false,
     "start_time": "2021-01-02T22:47:45.986592",
     "status": "completed"
    },
    "tags": []
   },
   "outputs": [],
   "source": [
    "def preprocess_inputs(df, task='classification'):\n",
    "    df = df.copy()\n",
    "    \n",
    "    if task == 'classification':\n",
    "        df = df.drop('stab', axis=1)\n",
    "        \n",
    "        y = df['stabf'].copy()\n",
    "        X = df.drop('stabf', axis=1).copy()\n",
    "        \n",
    "    elif task == 'regression':\n",
    "        df = df.drop('stabf', axis=1)\n",
    "        \n",
    "        y = df['stab'].copy()\n",
    "        X = df.drop('stab', axis=1).copy()\n",
    "    \n",
    "    X_train, X_test, y_train, y_test = train_test_split(X, y, train_size=0.7, shuffle=True, random_state=1)\n",
    "    \n",
    "    return X_train, X_test, y_train, y_test"
   ]
  },
  {
   "cell_type": "markdown",
   "metadata": {
    "papermill": {
     "duration": 0.014238,
     "end_time": "2021-01-02T22:47:46.043683",
     "exception": false,
     "start_time": "2021-01-02T22:47:46.029445",
     "status": "completed"
    },
    "tags": []
   },
   "source": [
    "# Classification Task"
   ]
  },
  {
   "cell_type": "code",
   "execution_count": 6,
   "metadata": {
    "execution": {
     "iopub.execute_input": "2021-01-02T22:47:46.079124Z",
     "iopub.status.busy": "2021-01-02T22:47:46.077916Z",
     "iopub.status.idle": "2021-01-02T22:47:46.106166Z",
     "shell.execute_reply": "2021-01-02T22:47:46.106787Z"
    },
    "papermill": {
     "duration": 0.04849,
     "end_time": "2021-01-02T22:47:46.106938",
     "exception": false,
     "start_time": "2021-01-02T22:47:46.058448",
     "status": "completed"
    },
    "tags": []
   },
   "outputs": [],
   "source": [
    "X_train, X_test, y_train, y_test = preprocess_inputs(data, task='classification')"
   ]
  },
  {
   "cell_type": "code",
   "execution_count": 7,
   "metadata": {
    "execution": {
     "iopub.execute_input": "2021-01-02T22:47:46.157986Z",
     "iopub.status.busy": "2021-01-02T22:47:46.157304Z",
     "iopub.status.idle": "2021-01-02T22:47:46.162020Z",
     "shell.execute_reply": "2021-01-02T22:47:46.161491Z"
    },
    "papermill": {
     "duration": 0.039819,
     "end_time": "2021-01-02T22:47:46.162132",
     "exception": false,
     "start_time": "2021-01-02T22:47:46.122313",
     "status": "completed"
    },
    "tags": []
   },
   "outputs": [
    {
     "data": {
      "text/html": [
       "<div>\n",
       "<style scoped>\n",
       "    .dataframe tbody tr th:only-of-type {\n",
       "        vertical-align: middle;\n",
       "    }\n",
       "\n",
       "    .dataframe tbody tr th {\n",
       "        vertical-align: top;\n",
       "    }\n",
       "\n",
       "    .dataframe thead th {\n",
       "        text-align: right;\n",
       "    }\n",
       "</style>\n",
       "<table border=\"1\" class=\"dataframe\">\n",
       "  <thead>\n",
       "    <tr style=\"text-align: right;\">\n",
       "      <th></th>\n",
       "      <th>tau1</th>\n",
       "      <th>tau2</th>\n",
       "      <th>tau3</th>\n",
       "      <th>tau4</th>\n",
       "      <th>p1</th>\n",
       "      <th>p2</th>\n",
       "      <th>p3</th>\n",
       "      <th>p4</th>\n",
       "      <th>g1</th>\n",
       "      <th>g2</th>\n",
       "      <th>g3</th>\n",
       "      <th>g4</th>\n",
       "    </tr>\n",
       "  </thead>\n",
       "  <tbody>\n",
       "    <tr>\n",
       "      <th>51782</th>\n",
       "      <td>4.306374</td>\n",
       "      <td>7.111600</td>\n",
       "      <td>2.698565</td>\n",
       "      <td>1.667149</td>\n",
       "      <td>4.036521</td>\n",
       "      <td>-0.661915</td>\n",
       "      <td>-1.721545</td>\n",
       "      <td>-1.653061</td>\n",
       "      <td>0.502570</td>\n",
       "      <td>0.357268</td>\n",
       "      <td>0.784432</td>\n",
       "      <td>0.283608</td>\n",
       "    </tr>\n",
       "    <tr>\n",
       "      <th>53781</th>\n",
       "      <td>8.196407</td>\n",
       "      <td>3.969140</td>\n",
       "      <td>8.062070</td>\n",
       "      <td>2.770065</td>\n",
       "      <td>2.307235</td>\n",
       "      <td>-0.759482</td>\n",
       "      <td>-0.980846</td>\n",
       "      <td>-0.566906</td>\n",
       "      <td>0.656218</td>\n",
       "      <td>0.339355</td>\n",
       "      <td>0.631997</td>\n",
       "      <td>0.181889</td>\n",
       "    </tr>\n",
       "    <tr>\n",
       "      <th>55123</th>\n",
       "      <td>9.030050</td>\n",
       "      <td>7.459977</td>\n",
       "      <td>7.533218</td>\n",
       "      <td>2.704361</td>\n",
       "      <td>2.297036</td>\n",
       "      <td>-0.888640</td>\n",
       "      <td>-0.907252</td>\n",
       "      <td>-0.501144</td>\n",
       "      <td>0.520756</td>\n",
       "      <td>0.668365</td>\n",
       "      <td>0.979940</td>\n",
       "      <td>0.962761</td>\n",
       "    </tr>\n",
       "    <tr>\n",
       "      <th>35823</th>\n",
       "      <td>0.615170</td>\n",
       "      <td>1.946848</td>\n",
       "      <td>6.944750</td>\n",
       "      <td>3.811661</td>\n",
       "      <td>4.115997</td>\n",
       "      <td>-1.014799</td>\n",
       "      <td>-1.428489</td>\n",
       "      <td>-1.672709</td>\n",
       "      <td>0.363591</td>\n",
       "      <td>0.136974</td>\n",
       "      <td>0.089364</td>\n",
       "      <td>0.896053</td>\n",
       "    </tr>\n",
       "    <tr>\n",
       "      <th>48869</th>\n",
       "      <td>9.689491</td>\n",
       "      <td>6.842392</td>\n",
       "      <td>6.715817</td>\n",
       "      <td>2.300154</td>\n",
       "      <td>2.394670</td>\n",
       "      <td>-0.603920</td>\n",
       "      <td>-1.174640</td>\n",
       "      <td>-0.616110</td>\n",
       "      <td>0.500522</td>\n",
       "      <td>0.102504</td>\n",
       "      <td>0.747755</td>\n",
       "      <td>0.052535</td>\n",
       "    </tr>\n",
       "    <tr>\n",
       "      <th>...</th>\n",
       "      <td>...</td>\n",
       "      <td>...</td>\n",
       "      <td>...</td>\n",
       "      <td>...</td>\n",
       "      <td>...</td>\n",
       "      <td>...</td>\n",
       "      <td>...</td>\n",
       "      <td>...</td>\n",
       "      <td>...</td>\n",
       "      <td>...</td>\n",
       "      <td>...</td>\n",
       "      <td>...</td>\n",
       "    </tr>\n",
       "    <tr>\n",
       "      <th>50057</th>\n",
       "      <td>2.918050</td>\n",
       "      <td>8.634376</td>\n",
       "      <td>1.492789</td>\n",
       "      <td>3.289806</td>\n",
       "      <td>3.928822</td>\n",
       "      <td>-0.735709</td>\n",
       "      <td>-1.580769</td>\n",
       "      <td>-1.612345</td>\n",
       "      <td>0.315826</td>\n",
       "      <td>0.762099</td>\n",
       "      <td>0.817872</td>\n",
       "      <td>0.278033</td>\n",
       "    </tr>\n",
       "    <tr>\n",
       "      <th>32511</th>\n",
       "      <td>7.833738</td>\n",
       "      <td>4.576594</td>\n",
       "      <td>8.163828</td>\n",
       "      <td>8.902948</td>\n",
       "      <td>3.853314</td>\n",
       "      <td>-1.528091</td>\n",
       "      <td>-0.853671</td>\n",
       "      <td>-1.471552</td>\n",
       "      <td>0.689789</td>\n",
       "      <td>0.084526</td>\n",
       "      <td>0.738146</td>\n",
       "      <td>0.947283</td>\n",
       "    </tr>\n",
       "    <tr>\n",
       "      <th>5192</th>\n",
       "      <td>5.085242</td>\n",
       "      <td>1.790031</td>\n",
       "      <td>2.486392</td>\n",
       "      <td>2.848192</td>\n",
       "      <td>3.159670</td>\n",
       "      <td>-0.892898</td>\n",
       "      <td>-1.025461</td>\n",
       "      <td>-1.241311</td>\n",
       "      <td>0.473917</td>\n",
       "      <td>0.418512</td>\n",
       "      <td>0.326253</td>\n",
       "      <td>0.982488</td>\n",
       "    </tr>\n",
       "    <tr>\n",
       "      <th>12172</th>\n",
       "      <td>2.103806</td>\n",
       "      <td>7.834493</td>\n",
       "      <td>0.678007</td>\n",
       "      <td>6.619317</td>\n",
       "      <td>4.946095</td>\n",
       "      <td>-1.320590</td>\n",
       "      <td>-1.724641</td>\n",
       "      <td>-1.900864</td>\n",
       "      <td>0.723385</td>\n",
       "      <td>0.223536</td>\n",
       "      <td>0.745005</td>\n",
       "      <td>0.339882</td>\n",
       "    </tr>\n",
       "    <tr>\n",
       "      <th>33003</th>\n",
       "      <td>8.809894</td>\n",
       "      <td>8.863281</td>\n",
       "      <td>3.041964</td>\n",
       "      <td>9.466062</td>\n",
       "      <td>4.212257</td>\n",
       "      <td>-0.755499</td>\n",
       "      <td>-1.782605</td>\n",
       "      <td>-1.674153</td>\n",
       "      <td>0.750848</td>\n",
       "      <td>0.965549</td>\n",
       "      <td>0.183851</td>\n",
       "      <td>0.171633</td>\n",
       "    </tr>\n",
       "  </tbody>\n",
       "</table>\n",
       "<p>42000 rows × 12 columns</p>\n",
       "</div>"
      ],
      "text/plain": [
       "           tau1      tau2      tau3      tau4        p1        p2        p3  \\\n",
       "51782  4.306374  7.111600  2.698565  1.667149  4.036521 -0.661915 -1.721545   \n",
       "53781  8.196407  3.969140  8.062070  2.770065  2.307235 -0.759482 -0.980846   \n",
       "55123  9.030050  7.459977  7.533218  2.704361  2.297036 -0.888640 -0.907252   \n",
       "35823  0.615170  1.946848  6.944750  3.811661  4.115997 -1.014799 -1.428489   \n",
       "48869  9.689491  6.842392  6.715817  2.300154  2.394670 -0.603920 -1.174640   \n",
       "...         ...       ...       ...       ...       ...       ...       ...   \n",
       "50057  2.918050  8.634376  1.492789  3.289806  3.928822 -0.735709 -1.580769   \n",
       "32511  7.833738  4.576594  8.163828  8.902948  3.853314 -1.528091 -0.853671   \n",
       "5192   5.085242  1.790031  2.486392  2.848192  3.159670 -0.892898 -1.025461   \n",
       "12172  2.103806  7.834493  0.678007  6.619317  4.946095 -1.320590 -1.724641   \n",
       "33003  8.809894  8.863281  3.041964  9.466062  4.212257 -0.755499 -1.782605   \n",
       "\n",
       "             p4        g1        g2        g3        g4  \n",
       "51782 -1.653061  0.502570  0.357268  0.784432  0.283608  \n",
       "53781 -0.566906  0.656218  0.339355  0.631997  0.181889  \n",
       "55123 -0.501144  0.520756  0.668365  0.979940  0.962761  \n",
       "35823 -1.672709  0.363591  0.136974  0.089364  0.896053  \n",
       "48869 -0.616110  0.500522  0.102504  0.747755  0.052535  \n",
       "...         ...       ...       ...       ...       ...  \n",
       "50057 -1.612345  0.315826  0.762099  0.817872  0.278033  \n",
       "32511 -1.471552  0.689789  0.084526  0.738146  0.947283  \n",
       "5192  -1.241311  0.473917  0.418512  0.326253  0.982488  \n",
       "12172 -1.900864  0.723385  0.223536  0.745005  0.339882  \n",
       "33003 -1.674153  0.750848  0.965549  0.183851  0.171633  \n",
       "\n",
       "[42000 rows x 12 columns]"
      ]
     },
     "execution_count": 7,
     "metadata": {},
     "output_type": "execute_result"
    }
   ],
   "source": [
    "X_train"
   ]
  },
  {
   "cell_type": "code",
   "execution_count": 8,
   "metadata": {
    "execution": {
     "iopub.execute_input": "2021-01-02T22:47:46.200168Z",
     "iopub.status.busy": "2021-01-02T22:47:46.199187Z",
     "iopub.status.idle": "2021-01-02T22:47:46.202047Z",
     "shell.execute_reply": "2021-01-02T22:47:46.202592Z"
    },
    "papermill": {
     "duration": 0.025087,
     "end_time": "2021-01-02T22:47:46.202729",
     "exception": false,
     "start_time": "2021-01-02T22:47:46.177642",
     "status": "completed"
    },
    "tags": []
   },
   "outputs": [
    {
     "data": {
      "text/plain": [
       "51782      stable\n",
       "53781    unstable\n",
       "55123    unstable\n",
       "35823      stable\n",
       "48869    unstable\n",
       "           ...   \n",
       "50057      stable\n",
       "32511    unstable\n",
       "5192     unstable\n",
       "12172      stable\n",
       "33003    unstable\n",
       "Name: stabf, Length: 42000, dtype: object"
      ]
     },
     "execution_count": 8,
     "metadata": {},
     "output_type": "execute_result"
    }
   ],
   "source": [
    "y_train"
   ]
  },
  {
   "cell_type": "code",
   "execution_count": 9,
   "metadata": {
    "execution": {
     "iopub.execute_input": "2021-01-02T22:47:46.238031Z",
     "iopub.status.busy": "2021-01-02T22:47:46.237446Z",
     "iopub.status.idle": "2021-01-02T22:47:51.151721Z",
     "shell.execute_reply": "2021-01-02T22:47:51.152824Z"
    },
    "papermill": {
     "duration": 4.934046,
     "end_time": "2021-01-02T22:47:51.153003",
     "exception": false,
     "start_time": "2021-01-02T22:47:46.218957",
     "status": "completed"
    },
    "tags": []
   },
   "outputs": [
    {
     "name": "stdout",
     "output_type": "stream",
     "text": [
      "Classifier trained.\n"
     ]
    }
   ],
   "source": [
    "clf = XGBClassifier()\n",
    "clf.fit(X_train, y_train)\n",
    "print(\"Classifier trained.\")"
   ]
  },
  {
   "cell_type": "code",
   "execution_count": 10,
   "metadata": {
    "execution": {
     "iopub.execute_input": "2021-01-02T22:47:51.203587Z",
     "iopub.status.busy": "2021-01-02T22:47:51.202813Z",
     "iopub.status.idle": "2021-01-02T22:47:51.330792Z",
     "shell.execute_reply": "2021-01-02T22:47:51.331524Z"
    },
    "papermill": {
     "duration": 0.157012,
     "end_time": "2021-01-02T22:47:51.331697",
     "exception": false,
     "start_time": "2021-01-02T22:47:51.174685",
     "status": "completed"
    },
    "tags": []
   },
   "outputs": [
    {
     "name": "stdout",
     "output_type": "stream",
     "text": [
      "Classification Test Accuracy: 97.79%\n"
     ]
    }
   ],
   "source": [
    "print(\"Classification Test Accuracy: {:.2f}%\".format(clf.score(X_test, y_test) * 100))"
   ]
  },
  {
   "cell_type": "markdown",
   "metadata": {
    "papermill": {
     "duration": 0.02175,
     "end_time": "2021-01-02T22:47:51.375545",
     "exception": false,
     "start_time": "2021-01-02T22:47:51.353795",
     "status": "completed"
    },
    "tags": []
   },
   "source": [
    "# Regression Task"
   ]
  },
  {
   "cell_type": "code",
   "execution_count": 11,
   "metadata": {
    "execution": {
     "iopub.execute_input": "2021-01-02T22:47:51.425299Z",
     "iopub.status.busy": "2021-01-02T22:47:51.424521Z",
     "iopub.status.idle": "2021-01-02T22:47:51.448880Z",
     "shell.execute_reply": "2021-01-02T22:47:51.449440Z"
    },
    "papermill": {
     "duration": 0.051992,
     "end_time": "2021-01-02T22:47:51.449615",
     "exception": false,
     "start_time": "2021-01-02T22:47:51.397623",
     "status": "completed"
    },
    "tags": []
   },
   "outputs": [],
   "source": [
    "X_train, X_test, y_train, y_test = preprocess_inputs(data, task='regression')"
   ]
  },
  {
   "cell_type": "code",
   "execution_count": 12,
   "metadata": {
    "execution": {
     "iopub.execute_input": "2021-01-02T22:47:51.505019Z",
     "iopub.status.busy": "2021-01-02T22:47:51.503985Z",
     "iopub.status.idle": "2021-01-02T22:47:51.508750Z",
     "shell.execute_reply": "2021-01-02T22:47:51.508223Z"
    },
    "papermill": {
     "duration": 0.041813,
     "end_time": "2021-01-02T22:47:51.508866",
     "exception": false,
     "start_time": "2021-01-02T22:47:51.467053",
     "status": "completed"
    },
    "tags": []
   },
   "outputs": [
    {
     "data": {
      "text/html": [
       "<div>\n",
       "<style scoped>\n",
       "    .dataframe tbody tr th:only-of-type {\n",
       "        vertical-align: middle;\n",
       "    }\n",
       "\n",
       "    .dataframe tbody tr th {\n",
       "        vertical-align: top;\n",
       "    }\n",
       "\n",
       "    .dataframe thead th {\n",
       "        text-align: right;\n",
       "    }\n",
       "</style>\n",
       "<table border=\"1\" class=\"dataframe\">\n",
       "  <thead>\n",
       "    <tr style=\"text-align: right;\">\n",
       "      <th></th>\n",
       "      <th>tau1</th>\n",
       "      <th>tau2</th>\n",
       "      <th>tau3</th>\n",
       "      <th>tau4</th>\n",
       "      <th>p1</th>\n",
       "      <th>p2</th>\n",
       "      <th>p3</th>\n",
       "      <th>p4</th>\n",
       "      <th>g1</th>\n",
       "      <th>g2</th>\n",
       "      <th>g3</th>\n",
       "      <th>g4</th>\n",
       "    </tr>\n",
       "  </thead>\n",
       "  <tbody>\n",
       "    <tr>\n",
       "      <th>51782</th>\n",
       "      <td>4.306374</td>\n",
       "      <td>7.111600</td>\n",
       "      <td>2.698565</td>\n",
       "      <td>1.667149</td>\n",
       "      <td>4.036521</td>\n",
       "      <td>-0.661915</td>\n",
       "      <td>-1.721545</td>\n",
       "      <td>-1.653061</td>\n",
       "      <td>0.502570</td>\n",
       "      <td>0.357268</td>\n",
       "      <td>0.784432</td>\n",
       "      <td>0.283608</td>\n",
       "    </tr>\n",
       "    <tr>\n",
       "      <th>53781</th>\n",
       "      <td>8.196407</td>\n",
       "      <td>3.969140</td>\n",
       "      <td>8.062070</td>\n",
       "      <td>2.770065</td>\n",
       "      <td>2.307235</td>\n",
       "      <td>-0.759482</td>\n",
       "      <td>-0.980846</td>\n",
       "      <td>-0.566906</td>\n",
       "      <td>0.656218</td>\n",
       "      <td>0.339355</td>\n",
       "      <td>0.631997</td>\n",
       "      <td>0.181889</td>\n",
       "    </tr>\n",
       "    <tr>\n",
       "      <th>55123</th>\n",
       "      <td>9.030050</td>\n",
       "      <td>7.459977</td>\n",
       "      <td>7.533218</td>\n",
       "      <td>2.704361</td>\n",
       "      <td>2.297036</td>\n",
       "      <td>-0.888640</td>\n",
       "      <td>-0.907252</td>\n",
       "      <td>-0.501144</td>\n",
       "      <td>0.520756</td>\n",
       "      <td>0.668365</td>\n",
       "      <td>0.979940</td>\n",
       "      <td>0.962761</td>\n",
       "    </tr>\n",
       "    <tr>\n",
       "      <th>35823</th>\n",
       "      <td>0.615170</td>\n",
       "      <td>1.946848</td>\n",
       "      <td>6.944750</td>\n",
       "      <td>3.811661</td>\n",
       "      <td>4.115997</td>\n",
       "      <td>-1.014799</td>\n",
       "      <td>-1.428489</td>\n",
       "      <td>-1.672709</td>\n",
       "      <td>0.363591</td>\n",
       "      <td>0.136974</td>\n",
       "      <td>0.089364</td>\n",
       "      <td>0.896053</td>\n",
       "    </tr>\n",
       "    <tr>\n",
       "      <th>48869</th>\n",
       "      <td>9.689491</td>\n",
       "      <td>6.842392</td>\n",
       "      <td>6.715817</td>\n",
       "      <td>2.300154</td>\n",
       "      <td>2.394670</td>\n",
       "      <td>-0.603920</td>\n",
       "      <td>-1.174640</td>\n",
       "      <td>-0.616110</td>\n",
       "      <td>0.500522</td>\n",
       "      <td>0.102504</td>\n",
       "      <td>0.747755</td>\n",
       "      <td>0.052535</td>\n",
       "    </tr>\n",
       "    <tr>\n",
       "      <th>...</th>\n",
       "      <td>...</td>\n",
       "      <td>...</td>\n",
       "      <td>...</td>\n",
       "      <td>...</td>\n",
       "      <td>...</td>\n",
       "      <td>...</td>\n",
       "      <td>...</td>\n",
       "      <td>...</td>\n",
       "      <td>...</td>\n",
       "      <td>...</td>\n",
       "      <td>...</td>\n",
       "      <td>...</td>\n",
       "    </tr>\n",
       "    <tr>\n",
       "      <th>50057</th>\n",
       "      <td>2.918050</td>\n",
       "      <td>8.634376</td>\n",
       "      <td>1.492789</td>\n",
       "      <td>3.289806</td>\n",
       "      <td>3.928822</td>\n",
       "      <td>-0.735709</td>\n",
       "      <td>-1.580769</td>\n",
       "      <td>-1.612345</td>\n",
       "      <td>0.315826</td>\n",
       "      <td>0.762099</td>\n",
       "      <td>0.817872</td>\n",
       "      <td>0.278033</td>\n",
       "    </tr>\n",
       "    <tr>\n",
       "      <th>32511</th>\n",
       "      <td>7.833738</td>\n",
       "      <td>4.576594</td>\n",
       "      <td>8.163828</td>\n",
       "      <td>8.902948</td>\n",
       "      <td>3.853314</td>\n",
       "      <td>-1.528091</td>\n",
       "      <td>-0.853671</td>\n",
       "      <td>-1.471552</td>\n",
       "      <td>0.689789</td>\n",
       "      <td>0.084526</td>\n",
       "      <td>0.738146</td>\n",
       "      <td>0.947283</td>\n",
       "    </tr>\n",
       "    <tr>\n",
       "      <th>5192</th>\n",
       "      <td>5.085242</td>\n",
       "      <td>1.790031</td>\n",
       "      <td>2.486392</td>\n",
       "      <td>2.848192</td>\n",
       "      <td>3.159670</td>\n",
       "      <td>-0.892898</td>\n",
       "      <td>-1.025461</td>\n",
       "      <td>-1.241311</td>\n",
       "      <td>0.473917</td>\n",
       "      <td>0.418512</td>\n",
       "      <td>0.326253</td>\n",
       "      <td>0.982488</td>\n",
       "    </tr>\n",
       "    <tr>\n",
       "      <th>12172</th>\n",
       "      <td>2.103806</td>\n",
       "      <td>7.834493</td>\n",
       "      <td>0.678007</td>\n",
       "      <td>6.619317</td>\n",
       "      <td>4.946095</td>\n",
       "      <td>-1.320590</td>\n",
       "      <td>-1.724641</td>\n",
       "      <td>-1.900864</td>\n",
       "      <td>0.723385</td>\n",
       "      <td>0.223536</td>\n",
       "      <td>0.745005</td>\n",
       "      <td>0.339882</td>\n",
       "    </tr>\n",
       "    <tr>\n",
       "      <th>33003</th>\n",
       "      <td>8.809894</td>\n",
       "      <td>8.863281</td>\n",
       "      <td>3.041964</td>\n",
       "      <td>9.466062</td>\n",
       "      <td>4.212257</td>\n",
       "      <td>-0.755499</td>\n",
       "      <td>-1.782605</td>\n",
       "      <td>-1.674153</td>\n",
       "      <td>0.750848</td>\n",
       "      <td>0.965549</td>\n",
       "      <td>0.183851</td>\n",
       "      <td>0.171633</td>\n",
       "    </tr>\n",
       "  </tbody>\n",
       "</table>\n",
       "<p>42000 rows × 12 columns</p>\n",
       "</div>"
      ],
      "text/plain": [
       "           tau1      tau2      tau3      tau4        p1        p2        p3  \\\n",
       "51782  4.306374  7.111600  2.698565  1.667149  4.036521 -0.661915 -1.721545   \n",
       "53781  8.196407  3.969140  8.062070  2.770065  2.307235 -0.759482 -0.980846   \n",
       "55123  9.030050  7.459977  7.533218  2.704361  2.297036 -0.888640 -0.907252   \n",
       "35823  0.615170  1.946848  6.944750  3.811661  4.115997 -1.014799 -1.428489   \n",
       "48869  9.689491  6.842392  6.715817  2.300154  2.394670 -0.603920 -1.174640   \n",
       "...         ...       ...       ...       ...       ...       ...       ...   \n",
       "50057  2.918050  8.634376  1.492789  3.289806  3.928822 -0.735709 -1.580769   \n",
       "32511  7.833738  4.576594  8.163828  8.902948  3.853314 -1.528091 -0.853671   \n",
       "5192   5.085242  1.790031  2.486392  2.848192  3.159670 -0.892898 -1.025461   \n",
       "12172  2.103806  7.834493  0.678007  6.619317  4.946095 -1.320590 -1.724641   \n",
       "33003  8.809894  8.863281  3.041964  9.466062  4.212257 -0.755499 -1.782605   \n",
       "\n",
       "             p4        g1        g2        g3        g4  \n",
       "51782 -1.653061  0.502570  0.357268  0.784432  0.283608  \n",
       "53781 -0.566906  0.656218  0.339355  0.631997  0.181889  \n",
       "55123 -0.501144  0.520756  0.668365  0.979940  0.962761  \n",
       "35823 -1.672709  0.363591  0.136974  0.089364  0.896053  \n",
       "48869 -0.616110  0.500522  0.102504  0.747755  0.052535  \n",
       "...         ...       ...       ...       ...       ...  \n",
       "50057 -1.612345  0.315826  0.762099  0.817872  0.278033  \n",
       "32511 -1.471552  0.689789  0.084526  0.738146  0.947283  \n",
       "5192  -1.241311  0.473917  0.418512  0.326253  0.982488  \n",
       "12172 -1.900864  0.723385  0.223536  0.745005  0.339882  \n",
       "33003 -1.674153  0.750848  0.965549  0.183851  0.171633  \n",
       "\n",
       "[42000 rows x 12 columns]"
      ]
     },
     "execution_count": 12,
     "metadata": {},
     "output_type": "execute_result"
    }
   ],
   "source": [
    "X_train"
   ]
  },
  {
   "cell_type": "code",
   "execution_count": 13,
   "metadata": {
    "execution": {
     "iopub.execute_input": "2021-01-02T22:47:51.552352Z",
     "iopub.status.busy": "2021-01-02T22:47:51.551725Z",
     "iopub.status.idle": "2021-01-02T22:47:51.554601Z",
     "shell.execute_reply": "2021-01-02T22:47:51.555130Z"
    },
    "papermill": {
     "duration": 0.02807,
     "end_time": "2021-01-02T22:47:51.555260",
     "exception": false,
     "start_time": "2021-01-02T22:47:51.527190",
     "status": "completed"
    },
    "tags": []
   },
   "outputs": [
    {
     "data": {
      "text/plain": [
       "51782   -0.012548\n",
       "53781    0.032672\n",
       "55123    0.069865\n",
       "35823   -0.044868\n",
       "48869    0.020140\n",
       "           ...   \n",
       "50057   -0.028760\n",
       "32511    0.075413\n",
       "5192     0.003594\n",
       "12172   -0.042775\n",
       "33003    0.055588\n",
       "Name: stab, Length: 42000, dtype: float64"
      ]
     },
     "execution_count": 13,
     "metadata": {},
     "output_type": "execute_result"
    }
   ],
   "source": [
    "y_train"
   ]
  },
  {
   "cell_type": "code",
   "execution_count": 14,
   "metadata": {
    "execution": {
     "iopub.execute_input": "2021-01-02T22:47:51.595515Z",
     "iopub.status.busy": "2021-01-02T22:47:51.594900Z",
     "iopub.status.idle": "2021-01-02T22:47:55.219862Z",
     "shell.execute_reply": "2021-01-02T22:47:55.220863Z"
    },
    "papermill": {
     "duration": 3.647163,
     "end_time": "2021-01-02T22:47:55.221050",
     "exception": false,
     "start_time": "2021-01-02T22:47:51.573887",
     "status": "completed"
    },
    "tags": []
   },
   "outputs": [
    {
     "name": "stdout",
     "output_type": "stream",
     "text": [
      "Regressor trained.\n"
     ]
    }
   ],
   "source": [
    "reg = XGBRegressor()\n",
    "reg.fit(X_train, y_train)\n",
    "print(\"Regressor trained.\")"
   ]
  },
  {
   "cell_type": "code",
   "execution_count": 15,
   "metadata": {
    "execution": {
     "iopub.execute_input": "2021-01-02T22:47:55.289555Z",
     "iopub.status.busy": "2021-01-02T22:47:55.288629Z",
     "iopub.status.idle": "2021-01-02T22:47:55.329127Z",
     "shell.execute_reply": "2021-01-02T22:47:55.330323Z"
    },
    "papermill": {
     "duration": 0.084473,
     "end_time": "2021-01-02T22:47:55.330523",
     "exception": false,
     "start_time": "2021-01-02T22:47:55.246050",
     "status": "completed"
    },
    "tags": []
   },
   "outputs": [
    {
     "name": "stdout",
     "output_type": "stream",
     "text": [
      "Regression Test R^2 Score: 0.95782\n"
     ]
    }
   ],
   "source": [
    "print(\"Regression Test R^2 Score: {:.5f}\".format(reg.score(X_test, y_test)))"
   ]
  },
  {
   "cell_type": "markdown",
   "metadata": {
    "papermill": {
     "duration": 0.024518,
     "end_time": "2021-01-02T22:47:55.381039",
     "exception": false,
     "start_time": "2021-01-02T22:47:55.356521",
     "status": "completed"
    },
    "tags": []
   },
   "source": [
    "# Data Every Day  \n",
    "\n",
    "This notebook is featured on Data Every Day, a YouTube series where I train models on a new dataset each day.  \n",
    "\n",
    "***\n",
    "\n",
    "Check it out!  \n",
    "https://youtu.be/6I2Xf8AfyTk"
   ]
  }
 ],
 "metadata": {
  "kernelspec": {
   "display_name": "Python 3",
   "language": "python",
   "name": "python3"
  },
  "language_info": {
   "codemirror_mode": {
    "name": "ipython",
    "version": 3
   },
   "file_extension": ".py",
   "mimetype": "text/x-python",
   "name": "python",
   "nbconvert_exporter": "python",
   "pygments_lexer": "ipython3",
   "version": "3.7.6"
  },
  "papermill": {
   "duration": 16.794313,
   "end_time": "2021-01-02T22:47:55.513512",
   "environment_variables": {},
   "exception": null,
   "input_path": "__notebook__.ipynb",
   "output_path": "__notebook__.ipynb",
   "parameters": {},
   "start_time": "2021-01-02T22:47:38.719199",
   "version": "2.1.0"
  }
 },
 "nbformat": 4,
 "nbformat_minor": 4
}
